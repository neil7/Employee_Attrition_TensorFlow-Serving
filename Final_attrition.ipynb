{
  "nbformat": 4,
  "nbformat_minor": 0,
  "metadata": {
    "kernelspec": {
      "display_name": "Python 3",
      "language": "python",
      "name": "python3"
    },
    "language_info": {
      "codemirror_mode": {
        "name": "ipython",
        "version": 3
      },
      "file_extension": ".py",
      "mimetype": "text/x-python",
      "name": "python",
      "nbconvert_exporter": "python",
      "pygments_lexer": "ipython3",
      "version": "3.7.4"
    },
    "colab": {
      "name": "Final_attrition.ipynb",
      "provenance": [],
      "collapsed_sections": []
    },
    "accelerator": "GPU"
  },
  "cells": [
    {
      "cell_type": "markdown",
      "metadata": {
        "id": "aH03IEmf7HRA"
      },
      "source": [
        "# Employee Attrition Analysis"
      ]
    },
    {
      "cell_type": "code",
      "metadata": {
        "id": "vXaUA1tn7HRC"
      },
      "source": [
        "#importing libraries\n",
        "import numpy as np\n",
        "import matplotlib.pyplot as plt\n",
        "import pandas as pd\n",
        "from sklearn.preprocessing import LabelEncoder, OneHotEncoder, StandardScaler\n",
        "from sklearn.model_selection import train_test_split\n",
        "from sklearn.metrics import accuracy_score\n",
        "import sys\n"
      ],
      "execution_count": null,
      "outputs": []
    },
    {
      "cell_type": "code",
      "metadata": {
        "colab": {
          "base_uri": "https://localhost:8080/"
        },
        "id": "azHObEidO_RX",
        "outputId": "5f6a6bd1-395f-4021-ad2c-af4036fc4c1c"
      },
      "source": [
        "# TensorFlow and tf.keras\n",
        "print(\"Installing dependencies for Colab environment\")\n",
        "!pip install -Uq grpcio==1.26.0\n",
        "\n",
        "import tensorflow as tf\n",
        "from tensorflow import keras\n",
        "\n",
        "# Helper libraries\n",
        "import numpy as np\n",
        "import matplotlib.pyplot as plt\n",
        "import os\n",
        "import subprocess\n",
        "\n",
        "print('TensorFlow version: {}'.format(tf.__version__))"
      ],
      "execution_count": null,
      "outputs": [
        {
          "output_type": "stream",
          "text": [
            "Installing dependencies for Colab environment\n",
            "\u001b[K     |████████████████████████████████| 2.4 MB 8.1 MB/s \n",
            "\u001b[31mERROR: pip's dependency resolver does not currently take into account all the packages that are installed. This behaviour is the source of the following dependency conflicts.\n",
            "tensorflow 2.5.0 requires grpcio~=1.34.0, but you have grpcio 1.26.0 which is incompatible.\u001b[0m\n",
            "\u001b[?25hTensorFlow version: 2.5.0\n"
          ],
          "name": "stdout"
        }
      ]
    },
    {
      "cell_type": "markdown",
      "metadata": {
        "id": "ZzvIK9lX7HRD"
      },
      "source": [
        "## Data Preprocessing - "
      ]
    },
    {
      "cell_type": "code",
      "metadata": {
        "colab": {
          "base_uri": "https://localhost:8080/",
          "height": 309
        },
        "id": "VerROAHo7HRE",
        "outputId": "b59b988c-d48e-4fcc-804e-41bc6afa7db8"
      },
      "source": [
        "df = pd.read_csv('attrition_data.csv')\n",
        "# print(df.columns)\n",
        "#Exited people (1 or 0)\n",
        "y = df['STATUS'].values\n",
        "df.head()"
      ],
      "execution_count": null,
      "outputs": [
        {
          "output_type": "execute_result",
          "data": {
            "text/html": [
              "<div>\n",
              "<style scoped>\n",
              "    .dataframe tbody tr th:only-of-type {\n",
              "        vertical-align: middle;\n",
              "    }\n",
              "\n",
              "    .dataframe tbody tr th {\n",
              "        vertical-align: top;\n",
              "    }\n",
              "\n",
              "    .dataframe thead th {\n",
              "        text-align: right;\n",
              "    }\n",
              "</style>\n",
              "<table border=\"1\" class=\"dataframe\">\n",
              "  <thead>\n",
              "    <tr style=\"text-align: right;\">\n",
              "      <th></th>\n",
              "      <th>EMP_ID</th>\n",
              "      <th>ANNUAL_RATE</th>\n",
              "      <th>HRLY_RATE</th>\n",
              "      <th>JOBCODE</th>\n",
              "      <th>ETHNICITY</th>\n",
              "      <th>SEX</th>\n",
              "      <th>MARITAL_STATUS</th>\n",
              "      <th>JOB_SATISFACTION</th>\n",
              "      <th>AGE</th>\n",
              "      <th>NUMBER_OF_TEAM_CHANGED</th>\n",
              "      <th>REFERRAL_SOURCE</th>\n",
              "      <th>HIRE_MONTH</th>\n",
              "      <th>REHIRE</th>\n",
              "      <th>TERMINATION_YEAR</th>\n",
              "      <th>IS_FIRST_JOB</th>\n",
              "      <th>TRAVELLED_REQUIRED</th>\n",
              "      <th>PERFORMANCE_RATING</th>\n",
              "      <th>DISABLED_EMP</th>\n",
              "      <th>DISABLED_VET</th>\n",
              "      <th>EDUCATION_LEVEL</th>\n",
              "      <th>STATUS</th>\n",
              "      <th>JOB_GROUP</th>\n",
              "      <th>PREVYR_1</th>\n",
              "      <th>PREVYR_2</th>\n",
              "      <th>PREVYR_3</th>\n",
              "      <th>PREVYR_4</th>\n",
              "      <th>PREVYR_5</th>\n",
              "    </tr>\n",
              "  </thead>\n",
              "  <tbody>\n",
              "    <tr>\n",
              "      <th>0</th>\n",
              "      <td>3285941608</td>\n",
              "      <td>33615</td>\n",
              "      <td>22</td>\n",
              "      <td>71850</td>\n",
              "      <td>BLACK</td>\n",
              "      <td>F</td>\n",
              "      <td>Divorced</td>\n",
              "      <td>4</td>\n",
              "      <td>35</td>\n",
              "      <td>3+</td>\n",
              "      <td>Client Referral</td>\n",
              "      <td>June</td>\n",
              "      <td>False</td>\n",
              "      <td>2008.0</td>\n",
              "      <td>N</td>\n",
              "      <td>N</td>\n",
              "      <td>4</td>\n",
              "      <td>N</td>\n",
              "      <td>N</td>\n",
              "      <td>LEVEL 2</td>\n",
              "      <td>T</td>\n",
              "      <td>Plant &amp; Facilities Maintenance</td>\n",
              "      <td>0</td>\n",
              "      <td>0</td>\n",
              "      <td>0</td>\n",
              "      <td>0</td>\n",
              "      <td>0</td>\n",
              "    </tr>\n",
              "    <tr>\n",
              "      <th>1</th>\n",
              "      <td>3687079832</td>\n",
              "      <td>70675</td>\n",
              "      <td>40</td>\n",
              "      <td>59806</td>\n",
              "      <td>ASIAN</td>\n",
              "      <td>M</td>\n",
              "      <td>Single</td>\n",
              "      <td>3</td>\n",
              "      <td>18</td>\n",
              "      <td>3+</td>\n",
              "      <td>Executive Referral</td>\n",
              "      <td>June</td>\n",
              "      <td>False</td>\n",
              "      <td>NaN</td>\n",
              "      <td>Y</td>\n",
              "      <td>N</td>\n",
              "      <td>3</td>\n",
              "      <td>N</td>\n",
              "      <td>N</td>\n",
              "      <td>LEVEL 1</td>\n",
              "      <td>A</td>\n",
              "      <td>Customer Care</td>\n",
              "      <td>3</td>\n",
              "      <td>3</td>\n",
              "      <td>3</td>\n",
              "      <td>2</td>\n",
              "      <td>3</td>\n",
              "    </tr>\n",
              "    <tr>\n",
              "      <th>2</th>\n",
              "      <td>7209970080</td>\n",
              "      <td>34320</td>\n",
              "      <td>23</td>\n",
              "      <td>60311</td>\n",
              "      <td>WHITE</td>\n",
              "      <td>F</td>\n",
              "      <td>Single</td>\n",
              "      <td>5</td>\n",
              "      <td>18</td>\n",
              "      <td>2</td>\n",
              "      <td>Former Employee/Intern</td>\n",
              "      <td>February</td>\n",
              "      <td>False</td>\n",
              "      <td>NaN</td>\n",
              "      <td>Y</td>\n",
              "      <td>N</td>\n",
              "      <td>3</td>\n",
              "      <td>N</td>\n",
              "      <td>N</td>\n",
              "      <td>LEVEL 1</td>\n",
              "      <td>A</td>\n",
              "      <td>Customer Care</td>\n",
              "      <td>3</td>\n",
              "      <td>3</td>\n",
              "      <td>3</td>\n",
              "      <td>2</td>\n",
              "      <td>3</td>\n",
              "    </tr>\n",
              "    <tr>\n",
              "      <th>3</th>\n",
              "      <td>9084013977</td>\n",
              "      <td>103199</td>\n",
              "      <td>59</td>\n",
              "      <td>16233</td>\n",
              "      <td>ASIAN</td>\n",
              "      <td>F</td>\n",
              "      <td>Single</td>\n",
              "      <td>2</td>\n",
              "      <td>50</td>\n",
              "      <td>0</td>\n",
              "      <td>Direct Sourcing</td>\n",
              "      <td>October</td>\n",
              "      <td>True</td>\n",
              "      <td>2005.0</td>\n",
              "      <td>N</td>\n",
              "      <td>Y</td>\n",
              "      <td>2</td>\n",
              "      <td>N</td>\n",
              "      <td>N</td>\n",
              "      <td>LEVEL 1</td>\n",
              "      <td>T</td>\n",
              "      <td>Finance</td>\n",
              "      <td>0</td>\n",
              "      <td>0</td>\n",
              "      <td>0</td>\n",
              "      <td>0</td>\n",
              "      <td>0</td>\n",
              "    </tr>\n",
              "    <tr>\n",
              "      <th>4</th>\n",
              "      <td>4566148978</td>\n",
              "      <td>141801</td>\n",
              "      <td>71</td>\n",
              "      <td>64415</td>\n",
              "      <td>ASIAN</td>\n",
              "      <td>F</td>\n",
              "      <td>Single</td>\n",
              "      <td>4</td>\n",
              "      <td>34</td>\n",
              "      <td>3</td>\n",
              "      <td>Inroads</td>\n",
              "      <td>May</td>\n",
              "      <td>False</td>\n",
              "      <td>NaN</td>\n",
              "      <td>N</td>\n",
              "      <td>N</td>\n",
              "      <td>4</td>\n",
              "      <td>N</td>\n",
              "      <td>N</td>\n",
              "      <td>LEVEL 1</td>\n",
              "      <td>A</td>\n",
              "      <td>Marketing - Direct</td>\n",
              "      <td>2</td>\n",
              "      <td>2</td>\n",
              "      <td>2</td>\n",
              "      <td>2</td>\n",
              "      <td>2</td>\n",
              "    </tr>\n",
              "  </tbody>\n",
              "</table>\n",
              "</div>"
            ],
            "text/plain": [
              "       EMP_ID  ANNUAL_RATE  HRLY_RATE  ...  PREVYR_3 PREVYR_4 PREVYR_5\n",
              "0  3285941608        33615         22  ...         0        0        0\n",
              "1  3687079832        70675         40  ...         3        2        3\n",
              "2  7209970080        34320         23  ...         3        2        3\n",
              "3  9084013977       103199         59  ...         0        0        0\n",
              "4  4566148978       141801         71  ...         2        2        2\n",
              "\n",
              "[5 rows x 27 columns]"
            ]
          },
          "metadata": {
            "tags": []
          },
          "execution_count": 3
        }
      ]
    },
    {
      "cell_type": "code",
      "metadata": {
        "colab": {
          "base_uri": "https://localhost:8080/"
        },
        "id": "LwOMkc4D7HRF",
        "outputId": "4c4af53c-f325-463e-8c21-1c619ff106bd"
      },
      "source": [
        "# Check Missing Values\n",
        "print(df.isnull().sum())\n",
        "\n",
        "#Drop irrelevant columns - \n",
        "df = df.drop(columns=\"STATUS\")\n",
        "df = df.drop(columns=\"EMP_ID\")\n",
        "df = df.drop(columns=\"JOBCODE\")\n",
        "df = df.drop(columns=\"TERMINATION_YEAR\")\n",
        "\n",
        "df = df.drop(columns=\"PREVYR_1\")\n",
        "df = df.drop(columns=\"PREVYR_2\")\n",
        "df = df.drop(columns=\"PREVYR_3\")\n",
        "df = df.drop(columns=\"PREVYR_4\")\n",
        "df = df.drop(columns=\"PREVYR_5\")\n",
        "\n",
        "#Fill missing values with 0s - \n",
        "df = df.fillna(0)"
      ],
      "execution_count": null,
      "outputs": [
        {
          "output_type": "stream",
          "text": [
            "EMP_ID                       0\n",
            "ANNUAL_RATE                  0\n",
            "HRLY_RATE                    0\n",
            "JOBCODE                      0\n",
            "ETHNICITY                    0\n",
            "SEX                          0\n",
            "MARITAL_STATUS               0\n",
            "JOB_SATISFACTION             0\n",
            "AGE                          0\n",
            "NUMBER_OF_TEAM_CHANGED       0\n",
            "REFERRAL_SOURCE            445\n",
            "HIRE_MONTH                   0\n",
            "REHIRE                       0\n",
            "TERMINATION_YEAR          5394\n",
            "IS_FIRST_JOB                 0\n",
            "TRAVELLED_REQUIRED           0\n",
            "PERFORMANCE_RATING           0\n",
            "DISABLED_EMP                 0\n",
            "DISABLED_VET                 0\n",
            "EDUCATION_LEVEL              0\n",
            "STATUS                       0\n",
            "JOB_GROUP                    0\n",
            "PREVYR_1                     0\n",
            "PREVYR_2                     0\n",
            "PREVYR_3                     0\n",
            "PREVYR_4                     0\n",
            "PREVYR_5                     0\n",
            "dtype: int64\n"
          ],
          "name": "stdout"
        }
      ]
    },
    {
      "cell_type": "markdown",
      "metadata": {
        "id": "YK4s29Yy7HRF"
      },
      "source": [
        "## Dataset Summary - "
      ]
    },
    {
      "cell_type": "code",
      "metadata": {
        "colab": {
          "base_uri": "https://localhost:8080/",
          "height": 297
        },
        "id": "ZPRITHyW7HRF",
        "outputId": "1347d86d-5e63-4358-8ee5-954e811b06fb"
      },
      "source": [
        "df.describe()"
      ],
      "execution_count": null,
      "outputs": [
        {
          "output_type": "execute_result",
          "data": {
            "text/html": [
              "<div>\n",
              "<style scoped>\n",
              "    .dataframe tbody tr th:only-of-type {\n",
              "        vertical-align: middle;\n",
              "    }\n",
              "\n",
              "    .dataframe tbody tr th {\n",
              "        vertical-align: top;\n",
              "    }\n",
              "\n",
              "    .dataframe thead th {\n",
              "        text-align: right;\n",
              "    }\n",
              "</style>\n",
              "<table border=\"1\" class=\"dataframe\">\n",
              "  <thead>\n",
              "    <tr style=\"text-align: right;\">\n",
              "      <th></th>\n",
              "      <th>ANNUAL_RATE</th>\n",
              "      <th>HRLY_RATE</th>\n",
              "      <th>JOB_SATISFACTION</th>\n",
              "      <th>AGE</th>\n",
              "      <th>PERFORMANCE_RATING</th>\n",
              "    </tr>\n",
              "  </thead>\n",
              "  <tbody>\n",
              "    <tr>\n",
              "      <th>count</th>\n",
              "      <td>9.612000e+03</td>\n",
              "      <td>9612.000000</td>\n",
              "      <td>9612.000000</td>\n",
              "      <td>9612.000000</td>\n",
              "      <td>9612.000000</td>\n",
              "    </tr>\n",
              "    <tr>\n",
              "      <th>mean</th>\n",
              "      <td>8.938563e+04</td>\n",
              "      <td>49.953808</td>\n",
              "      <td>2.757491</td>\n",
              "      <td>40.151581</td>\n",
              "      <td>3.002081</td>\n",
              "    </tr>\n",
              "    <tr>\n",
              "      <th>std</th>\n",
              "      <td>5.843344e+04</td>\n",
              "      <td>28.148113</td>\n",
              "      <td>1.411257</td>\n",
              "      <td>13.664378</td>\n",
              "      <td>1.406909</td>\n",
              "    </tr>\n",
              "    <tr>\n",
              "      <th>min</th>\n",
              "      <td>1.678600e+04</td>\n",
              "      <td>14.000000</td>\n",
              "      <td>1.000000</td>\n",
              "      <td>18.000000</td>\n",
              "      <td>1.000000</td>\n",
              "    </tr>\n",
              "    <tr>\n",
              "      <th>25%</th>\n",
              "      <td>5.085550e+04</td>\n",
              "      <td>32.000000</td>\n",
              "      <td>2.000000</td>\n",
              "      <td>28.000000</td>\n",
              "      <td>2.000000</td>\n",
              "    </tr>\n",
              "    <tr>\n",
              "      <th>50%</th>\n",
              "      <td>7.421050e+04</td>\n",
              "      <td>43.000000</td>\n",
              "      <td>3.000000</td>\n",
              "      <td>39.000000</td>\n",
              "      <td>3.000000</td>\n",
              "    </tr>\n",
              "    <tr>\n",
              "      <th>75%</th>\n",
              "      <td>1.088115e+05</td>\n",
              "      <td>59.000000</td>\n",
              "      <td>4.000000</td>\n",
              "      <td>52.000000</td>\n",
              "      <td>4.000000</td>\n",
              "    </tr>\n",
              "    <tr>\n",
              "      <th>max</th>\n",
              "      <td>1.250924e+06</td>\n",
              "      <td>608.000000</td>\n",
              "      <td>5.000000</td>\n",
              "      <td>64.000000</td>\n",
              "      <td>5.000000</td>\n",
              "    </tr>\n",
              "  </tbody>\n",
              "</table>\n",
              "</div>"
            ],
            "text/plain": [
              "        ANNUAL_RATE    HRLY_RATE  ...          AGE  PERFORMANCE_RATING\n",
              "count  9.612000e+03  9612.000000  ...  9612.000000         9612.000000\n",
              "mean   8.938563e+04    49.953808  ...    40.151581            3.002081\n",
              "std    5.843344e+04    28.148113  ...    13.664378            1.406909\n",
              "min    1.678600e+04    14.000000  ...    18.000000            1.000000\n",
              "25%    5.085550e+04    32.000000  ...    28.000000            2.000000\n",
              "50%    7.421050e+04    43.000000  ...    39.000000            3.000000\n",
              "75%    1.088115e+05    59.000000  ...    52.000000            4.000000\n",
              "max    1.250924e+06   608.000000  ...    64.000000            5.000000\n",
              "\n",
              "[8 rows x 5 columns]"
            ]
          },
          "metadata": {
            "tags": []
          },
          "execution_count": 5
        }
      ]
    },
    {
      "cell_type": "code",
      "metadata": {
        "colab": {
          "base_uri": "https://localhost:8080/"
        },
        "id": "QTtEGc697HRG",
        "outputId": "1469921b-ac94-4854-e972-8657e89bd9bc"
      },
      "source": [
        "X = df.values\n",
        "X.shape"
      ],
      "execution_count": null,
      "outputs": [
        {
          "output_type": "execute_result",
          "data": {
            "text/plain": [
              "(9612, 18)"
            ]
          },
          "metadata": {
            "tags": []
          },
          "execution_count": 6
        }
      ]
    },
    {
      "cell_type": "markdown",
      "metadata": {
        "id": "qjXtws587HRH"
      },
      "source": [
        "## Label Encoding - "
      ]
    },
    {
      "cell_type": "code",
      "metadata": {
        "id": "lC6kUyVd7HRH"
      },
      "source": [
        "labelencoder_X_1 = LabelEncoder()\n",
        "# X = labelencoder_X_1.fit_transform(X)\n",
        "#X[:, 1] = labelencoder_X_1.fit_transform(X[:, 1])\n",
        "X[:, 2] = labelencoder_X_1.fit_transform(X[:, 2])\n",
        "X[:, 3] = labelencoder_X_1.fit_transform(X[:, 3])\n",
        "X[:, 4] = labelencoder_X_1.fit_transform(X[:, 4])\n",
        "#X[:, 6] = labelencoder_X_1.fit_transform(X[:, 6])\n",
        "X[:, 7] = labelencoder_X_1.fit_transform(X[:, 7])\n",
        "X[:, 8] = labelencoder_X_1.fit_transform(X[:, 8].astype(str))\n",
        "X[:, 9] = labelencoder_X_1.fit_transform(X[:, 9])\n",
        "X[:, 10] = labelencoder_X_1.fit_transform(X[:, 10])\n",
        "X[:, 11] = labelencoder_X_1.fit_transform(X[:, 11])\n",
        "X[:, 12] = labelencoder_X_1.fit_transform(X[:, 12])\n",
        "#X[:, 13] = labelencoder_X_1.fit_transform(X[:, 13])\n",
        "X[:, 14] = labelencoder_X_1.fit_transform(X[:, 14])\n",
        "X[:, 15] = labelencoder_X_1.fit_transform(X[:, 15])\n",
        "X[:, 16] = labelencoder_X_1.fit_transform(X[:, 16])\n",
        "X[:, 17] = labelencoder_X_1.fit_transform(X[:, 17])\n",
        "#X[:, 18] = labelencoder_X_1.fit_transform(X[:, 18])"
      ],
      "execution_count": null,
      "outputs": []
    },
    {
      "cell_type": "code",
      "metadata": {
        "id": "cHdBS9gD7HRI"
      },
      "source": [
        "labelencoder_y_1 = LabelEncoder()\n",
        "y = labelencoder_y_1.fit_transform(y)"
      ],
      "execution_count": null,
      "outputs": []
    },
    {
      "cell_type": "markdown",
      "metadata": {
        "id": "_m66TQKV7HRI"
      },
      "source": [
        "# Splitting the dataset -"
      ]
    },
    {
      "cell_type": "code",
      "metadata": {
        "id": "uKtrL7Ax7HRI"
      },
      "source": [
        "X_train, X_test, y_train, y_test = train_test_split(X, y, test_size = 0.2, random_state = 4)"
      ],
      "execution_count": null,
      "outputs": []
    },
    {
      "cell_type": "code",
      "metadata": {
        "colab": {
          "base_uri": "https://localhost:8080/"
        },
        "id": "3VdqfBTq7HRI",
        "outputId": "04e886fc-e411-4f08-d1bf-31aa4565fe33"
      },
      "source": [
        "sc = StandardScaler()\n",
        "X_train = sc.fit_transform(X_train)\n",
        "X_test = sc.transform(X_test)\n",
        "X_train.shape"
      ],
      "execution_count": null,
      "outputs": [
        {
          "output_type": "execute_result",
          "data": {
            "text/plain": [
              "(7689, 18)"
            ]
          },
          "metadata": {
            "tags": []
          },
          "execution_count": 10
        }
      ]
    },
    {
      "cell_type": "markdown",
      "metadata": {
        "id": "_OakFm5G7HRJ"
      },
      "source": [
        "# Gaussian Naive Bayes"
      ]
    },
    {
      "cell_type": "code",
      "metadata": {
        "id": "7-kokhiO7HRJ",
        "colab": {
          "base_uri": "https://localhost:8080/"
        },
        "outputId": "928407c4-ffb0-4403-863e-055ede2e5231"
      },
      "source": [
        "from sklearn.naive_bayes import GaussianNB\n",
        "GNB = GaussianNB()\n",
        "classifier = GNB.fit(X_train,y_train)\n",
        "GNB_pred = GNB.predict(X_test)\n",
        "print(\"Gaussian Naive Bayes Accuracy:\", accuracy_score(y_test, GNB_pred))\n"
      ],
      "execution_count": null,
      "outputs": [
        {
          "output_type": "stream",
          "text": [
            "Gaussian Naive Bayes Accuracy: 0.5444617784711389\n"
          ],
          "name": "stdout"
        }
      ]
    },
    {
      "cell_type": "code",
      "metadata": {
        "id": "dC--d0AN7HRJ",
        "outputId": "99be285b-ac86-4b37-ea58-841c984d8f1d"
      },
      "source": [
        "# Making the Confusion Matrix\n",
        "import pandas as pd\n",
        "confusion_matrix_attrition = pd.crosstab(y_test, GNB_pred, rownames=['Actual'], colnames=['Predicted'])\n",
        "print(\"Gaussian Naive Bayes Confusion Matrix:\\n\")\n",
        "print(confusion_matrix_attrition)\n",
        "print(\"\\nGaussian Naive Bayes Accuracy:\", accuracy_score(y_test, GNB_pred))"
      ],
      "execution_count": null,
      "outputs": [
        {
          "output_type": "stream",
          "text": [
            "Gaussian Naive Bayes Confusion Matrix:\n",
            "\n",
            "Predicted    0    1\n",
            "Actual             \n",
            "0          366  720\n",
            "1          156  681\n",
            "\n",
            "Gaussian Naive Bayes Accuracy: 0.5444617784711389\n"
          ],
          "name": "stdout"
        }
      ]
    },
    {
      "cell_type": "markdown",
      "metadata": {
        "id": "OhTOj_QZ7HRJ"
      },
      "source": [
        "# Random Forest Classifier - "
      ]
    },
    {
      "cell_type": "code",
      "metadata": {
        "id": "N9WAKrdB7HRJ",
        "outputId": "cfc2fc35-b5fb-456a-d94f-273173548a76"
      },
      "source": [
        "from sklearn.ensemble import RandomForestClassifier\n",
        "rf = RandomForestClassifier(n_estimators = 100)\n",
        "rf.fit(X_train,y_train)\n",
        "rf_pred = rf.predict(X_test)\n",
        "print(\"Random Forest Accuracy:\", accuracy_score(y_test, rf_pred))"
      ],
      "execution_count": null,
      "outputs": [
        {
          "output_type": "stream",
          "text": [
            "Random Forest Accuracy: 0.6640665626625065\n"
          ],
          "name": "stdout"
        }
      ]
    },
    {
      "cell_type": "code",
      "metadata": {
        "id": "6slfxO7x7HRK",
        "outputId": "a9074078-a841-48e1-b106-6a218f6a3acd"
      },
      "source": [
        "# Making the Confusion Matrix\n",
        "import pandas as pd\n",
        "from sklearn.metrics import confusion_matrix\n",
        "confusion_matrix_attrition = pd.crosstab(y_test, rf_pred, rownames=['Actual'], colnames=['Predicted'])\n",
        "print(\"Random Forest Confusion Matrix:\\n\")\n",
        "print(confusion_matrix_attrition)\n",
        "print(\"\\nRandom Forest Accuracy:\", accuracy_score(y_test, rf_pred))"
      ],
      "execution_count": null,
      "outputs": [
        {
          "output_type": "stream",
          "text": [
            "Random Forest Confusion Matrix:\n",
            "\n",
            "Predicted    0    1\n",
            "Actual             \n",
            "0          854  232\n",
            "1          414  423\n",
            "\n",
            "Random Forest Accuracy: 0.6640665626625065\n"
          ],
          "name": "stdout"
        }
      ]
    },
    {
      "cell_type": "markdown",
      "metadata": {
        "id": "Vqt-zRH87HRK"
      },
      "source": [
        "# K nearest Neighbors"
      ]
    },
    {
      "cell_type": "code",
      "metadata": {
        "id": "uCk_ROV47HRK",
        "outputId": "2e671fac-7102-4a28-b65b-b478cef8df38"
      },
      "source": [
        "from sklearn.neighbors import KNeighborsClassifier\n",
        "knn = KNeighborsClassifier(n_neighbors=7)\n",
        "knn.fit(X_train,y_train)\n",
        "knn_pred = knn.predict(X_test)\n",
        "print(\"K-Nearest Neighbors Accuracy:\", accuracy_score(y_test, knn_pred))"
      ],
      "execution_count": null,
      "outputs": [
        {
          "output_type": "stream",
          "text": [
            "K-Nearest Neighbors Accuracy: 0.5574622984919396\n"
          ],
          "name": "stdout"
        }
      ]
    },
    {
      "cell_type": "code",
      "metadata": {
        "id": "h8AvZ4Xw7HRK",
        "outputId": "03d84169-6a68-4013-875e-ed831f216fa7"
      },
      "source": [
        "# Making the Confusion Matrix\n",
        "import pandas as pd\n",
        "from sklearn.metrics import confusion_matrix\n",
        "confusion_matrix_attrition = pd.crosstab(y_test, knn_pred, rownames=['Actual'], colnames=['Predicted'])\n",
        "print(\"K-Nearest Neighbors Confusion Matrix:\\n\")\n",
        "print(confusion_matrix_attrition)\n",
        "print(\"\\nK-Nearest Neighbors Accuracy:\", accuracy_score(y_test, knn_pred))"
      ],
      "execution_count": null,
      "outputs": [
        {
          "output_type": "stream",
          "text": [
            "K-Nearest Neighbors Confusion Matrix:\n",
            "\n",
            "Predicted    0    1\n",
            "Actual             \n",
            "0          719  367\n",
            "1          484  353\n",
            "\n",
            "K-Nearest Neighbors Accuracy: 0.5574622984919396\n"
          ],
          "name": "stdout"
        }
      ]
    },
    {
      "cell_type": "markdown",
      "metadata": {
        "id": "hdmXkrW77HRL"
      },
      "source": [
        "# Decision Tree - "
      ]
    },
    {
      "cell_type": "code",
      "metadata": {
        "id": "FSY2X47H7HRL",
        "outputId": "b42b62db-78eb-44bc-f70e-c6bb7965a59e"
      },
      "source": [
        "from sklearn.tree import DecisionTreeClassifier, plot_tree, export_graphviz\n",
        "dtree = DecisionTreeClassifier(criterion = 'entropy')\n",
        "dtree.fit(X_train,y_train)\n",
        "dtree_pred = dtree.predict(X_test)\n",
        "print(\"Decision Tree Accuracy:\", accuracy_score(y_test, dtree_pred))"
      ],
      "execution_count": null,
      "outputs": [
        {
          "output_type": "stream",
          "text": [
            "Decision Tree Accuracy: 0.62402496099844\n"
          ],
          "name": "stdout"
        }
      ]
    },
    {
      "cell_type": "code",
      "metadata": {
        "id": "DgL0R_qu7HRV",
        "outputId": "b20cf647-520b-40bb-ee96-fc64a5786837"
      },
      "source": [
        "# Making the Confusion Matrix\n",
        "from sklearn.metrics import confusion_matrix\n",
        "confusion_matrix_attrition = pd.crosstab(y_test,dtree_pred, rownames=['Actual'], colnames=['Predicted'])\n",
        "print(\"Decision Tree Confusion Matrix:\\n\")\n",
        "print(confusion_matrix_attrition)\n",
        "print(\"\\nDecision Tree Accuracy:\", accuracy_score(y_test, dtree_pred))"
      ],
      "execution_count": null,
      "outputs": [
        {
          "output_type": "stream",
          "text": [
            "Decision Tree Confusion Matrix:\n",
            "\n",
            "Predicted    0    1\n",
            "Actual             \n",
            "0          704  382\n",
            "1          341  496\n",
            "\n",
            "Decision Tree Accuracy: 0.62402496099844\n"
          ],
          "name": "stdout"
        }
      ]
    },
    {
      "cell_type": "markdown",
      "metadata": {
        "id": "l2PdQOg77HRV"
      },
      "source": [
        "# ANN - "
      ]
    },
    {
      "cell_type": "code",
      "metadata": {
        "id": "2KLGLMeOKQdd"
      },
      "source": [
        "# Importing Keras\n",
        "import keras\n",
        "from keras.models import Sequential\n",
        "from keras.layers import Dense, Dropout\n",
        "class_names = ['Attrition', 'No Attrition']\n",
        "# model = keras.Sequential([\n",
        "#   keras.layers.Dense(9, name='Dense', activation = 'relu'),\n",
        "  \n",
        "# ])\n",
        "#Initialising the ANN\n",
        "classifier = Sequential()\n",
        "\n",
        "# Add input layer and hidden layer no.1\n",
        "# 6 output nodes, Relu activation function and 11 input nodes\n",
        "# Output nodes is determined by the number of input nodes+1/2 (6)\n",
        "# the uniform method makes sure the weights are given randomly with small numbers close to 0\n",
        "classifier.add(Dense(9, activation = 'relu', input_dim = 18))\n",
        "\n",
        "# Add the second hidden layer to achieve a deep neural network\n",
        "classifier.add(Dense(9, activation = 'relu'))\n",
        "classifier.add(Dropout(0.2, input_shape=(9,)))\n",
        "\n",
        "# Add the third hidden layer to achieve a deep neural network\n",
        "classifier.add(Dense(9, activation = 'relu'))\n",
        "classifier.add(Dropout(0.2, input_shape=(9,)))\n",
        "\n",
        "# Add the Output layer\n",
        "classifier.add(Dense(1, activation = 'sigmoid'))\n",
        "\n",
        "\n",
        "#Compiling the NN\n",
        "# binary_crossentropy loss function used when a binary output is expected\n",
        "classifier.compile(optimizer = 'nadam', loss = 'binary_crossentropy', metrics = ['accuracy']) \n"
      ],
      "execution_count": null,
      "outputs": []
    },
    {
      "cell_type": "code",
      "metadata": {
        "scrolled": false,
        "id": "sZJm2j0i7HRV",
        "colab": {
          "base_uri": "https://localhost:8080/"
        },
        "outputId": "59abcb0d-f343-4dc6-db6e-8c29f0276709"
      },
      "source": [
        "history = classifier.fit(X_train, y_train, batch_size = 16, epochs = 25, validation_data=(X_test, y_test))\n",
        "\n",
        "# Fitting classifier to the Training set\n",
        "# Create your classifier here\n",
        "\n",
        "# Predicting the Test set results\n",
        "y_pred = classifier.predict(X_test)\n",
        "\n",
        "# Create a treshold to predict a true or false for leaving the\n",
        "# the bank.\n",
        "y_pred = (y_pred > 0.5)"
      ],
      "execution_count": null,
      "outputs": [
        {
          "output_type": "stream",
          "text": [
            "Epoch 1/25\n",
            "481/481 [==============================] - 17s 5ms/step - loss: 0.6929 - accuracy: 0.5500 - val_loss: 0.6787 - val_accuracy: 0.5673\n",
            "Epoch 2/25\n",
            "481/481 [==============================] - 2s 4ms/step - loss: 0.6816 - accuracy: 0.5572 - val_loss: 0.6750 - val_accuracy: 0.5653\n",
            "Epoch 3/25\n",
            "481/481 [==============================] - 2s 4ms/step - loss: 0.6788 - accuracy: 0.5612 - val_loss: 0.6724 - val_accuracy: 0.5684\n",
            "Epoch 4/25\n",
            "481/481 [==============================] - 2s 4ms/step - loss: 0.6753 - accuracy: 0.5637 - val_loss: 0.6714 - val_accuracy: 0.5689\n",
            "Epoch 5/25\n",
            "481/481 [==============================] - 2s 4ms/step - loss: 0.6695 - accuracy: 0.5654 - val_loss: 0.6696 - val_accuracy: 0.5663\n",
            "Epoch 6/25\n",
            "481/481 [==============================] - 2s 4ms/step - loss: 0.6767 - accuracy: 0.5571 - val_loss: 0.6693 - val_accuracy: 0.5699\n",
            "Epoch 7/25\n",
            "481/481 [==============================] - 2s 4ms/step - loss: 0.6758 - accuracy: 0.5610 - val_loss: 0.6691 - val_accuracy: 0.5673\n",
            "Epoch 8/25\n",
            "481/481 [==============================] - 2s 4ms/step - loss: 0.6763 - accuracy: 0.5602 - val_loss: 0.6687 - val_accuracy: 0.5736\n",
            "Epoch 9/25\n",
            "481/481 [==============================] - 2s 4ms/step - loss: 0.6685 - accuracy: 0.5755 - val_loss: 0.6690 - val_accuracy: 0.5679\n",
            "Epoch 10/25\n",
            "481/481 [==============================] - 2s 4ms/step - loss: 0.6659 - accuracy: 0.5790 - val_loss: 0.6681 - val_accuracy: 0.5694\n",
            "Epoch 11/25\n",
            "481/481 [==============================] - 2s 4ms/step - loss: 0.6709 - accuracy: 0.5650 - val_loss: 0.6687 - val_accuracy: 0.5668\n",
            "Epoch 12/25\n",
            "481/481 [==============================] - 2s 4ms/step - loss: 0.6670 - accuracy: 0.5720 - val_loss: 0.6687 - val_accuracy: 0.5715\n",
            "Epoch 13/25\n",
            "481/481 [==============================] - 2s 4ms/step - loss: 0.6595 - accuracy: 0.5953 - val_loss: 0.6690 - val_accuracy: 0.5793\n",
            "Epoch 14/25\n",
            "481/481 [==============================] - 2s 4ms/step - loss: 0.6645 - accuracy: 0.5781 - val_loss: 0.6686 - val_accuracy: 0.5845\n",
            "Epoch 15/25\n",
            "481/481 [==============================] - 2s 4ms/step - loss: 0.6615 - accuracy: 0.5821 - val_loss: 0.6686 - val_accuracy: 0.5819\n",
            "Epoch 16/25\n",
            "481/481 [==============================] - 2s 4ms/step - loss: 0.6618 - accuracy: 0.5853 - val_loss: 0.6693 - val_accuracy: 0.5840\n",
            "Epoch 17/25\n",
            "481/481 [==============================] - 2s 4ms/step - loss: 0.6676 - accuracy: 0.5770 - val_loss: 0.6684 - val_accuracy: 0.5840\n",
            "Epoch 18/25\n",
            "481/481 [==============================] - 2s 4ms/step - loss: 0.6622 - accuracy: 0.5832 - val_loss: 0.6695 - val_accuracy: 0.5741\n",
            "Epoch 19/25\n",
            "481/481 [==============================] - 2s 4ms/step - loss: 0.6686 - accuracy: 0.5760 - val_loss: 0.6702 - val_accuracy: 0.5725\n",
            "Epoch 20/25\n",
            "481/481 [==============================] - 2s 4ms/step - loss: 0.6610 - accuracy: 0.5813 - val_loss: 0.6698 - val_accuracy: 0.5814\n",
            "Epoch 21/25\n",
            "481/481 [==============================] - 2s 4ms/step - loss: 0.6640 - accuracy: 0.5846 - val_loss: 0.6694 - val_accuracy: 0.5861\n",
            "Epoch 22/25\n",
            "481/481 [==============================] - 2s 4ms/step - loss: 0.6600 - accuracy: 0.5904 - val_loss: 0.6700 - val_accuracy: 0.5757\n",
            "Epoch 23/25\n",
            "481/481 [==============================] - 2s 4ms/step - loss: 0.6634 - accuracy: 0.5747 - val_loss: 0.6693 - val_accuracy: 0.5715\n",
            "Epoch 24/25\n",
            "481/481 [==============================] - 2s 4ms/step - loss: 0.6591 - accuracy: 0.5865 - val_loss: 0.6692 - val_accuracy: 0.5762\n",
            "Epoch 25/25\n",
            "481/481 [==============================] - 2s 4ms/step - loss: 0.6645 - accuracy: 0.5844 - val_loss: 0.6699 - val_accuracy: 0.5814\n"
          ],
          "name": "stdout"
        }
      ]
    },
    {
      "cell_type": "code",
      "metadata": {
        "id": "VQEnRUi17HRW",
        "colab": {
          "base_uri": "https://localhost:8080/"
        },
        "outputId": "0d86f7cb-2bfc-4649-f286-ef40f3b93d82"
      },
      "source": [
        "print(\"Artificial Neural Network Accuracy:\", accuracy_score(y_test, y_pred.round()))\n",
        "y_pred = y_pred[:, 0]"
      ],
      "execution_count": null,
      "outputs": [
        {
          "output_type": "stream",
          "text": [
            "Artificial Neural Network Accuracy: 0.5813832553302132\n"
          ],
          "name": "stdout"
        }
      ]
    },
    {
      "cell_type": "markdown",
      "metadata": {
        "id": "cp13z_PHPWxT"
      },
      "source": [
        "# Save the Model"
      ]
    },
    {
      "cell_type": "code",
      "metadata": {
        "colab": {
          "base_uri": "https://localhost:8080/"
        },
        "id": "4ldStKYgKSBk",
        "outputId": "5c8b299b-861a-4e17-e0a3-727299f52ccc"
      },
      "source": [
        "# Fetch the Keras session and save the model\n",
        "# The signature definition is defined by the input and output tensors,\n",
        "# and stored with the default serving key\n",
        "import tempfile\n",
        "\n",
        "MODEL_DIR = tempfile.gettempdir()\n",
        "version = 1\n",
        "export_path = os.path.join(MODEL_DIR, str(version))\n",
        "print('export_path = {}\\n'.format(export_path))\n",
        "\n",
        "tf.keras.models.save_model(\n",
        "    classifier,\n",
        "    export_path,\n",
        "    overwrite=True,\n",
        "    include_optimizer=True,\n",
        "    save_format=None,\n",
        "    signatures=None,\n",
        "    options=None\n",
        ")\n",
        "\n",
        "print('\\nSaved model:')\n",
        "!ls -l {export_path}"
      ],
      "execution_count": null,
      "outputs": [
        {
          "output_type": "stream",
          "text": [
            "export_path = /tmp/1\n",
            "\n",
            "INFO:tensorflow:Assets written to: /tmp/1/assets\n",
            "\n",
            "Saved model:\n",
            "total 148\n",
            "drwxr-xr-x 2 root root   4096 Aug 16 05:24 assets\n",
            "-rw-r--r-- 1 root root      0 Aug 16 05:24 keras_metadata.pb\n",
            "-rw-r--r-- 1 root root 140106 Aug 16 05:24 saved_model.pb\n",
            "drwxr-xr-x 2 root root   4096 Aug 16 05:24 variables\n"
          ],
          "name": "stdout"
        }
      ]
    },
    {
      "cell_type": "code",
      "metadata": {
        "colab": {
          "base_uri": "https://localhost:8080/"
        },
        "id": "UOgsYvjpPaO2",
        "outputId": "7f89b424-4ff9-44b1-91eb-48089d84aa5e"
      },
      "source": [
        "# Examine saved model - \n",
        "!saved_model_cli show --dir {export_path} --all"
      ],
      "execution_count": null,
      "outputs": [
        {
          "output_type": "stream",
          "text": [
            "\n",
            "MetaGraphDef with tag-set: 'serve' contains the following SignatureDefs:\n",
            "\n",
            "signature_def['__saved_model_init_op']:\n",
            "  The given SavedModel SignatureDef contains the following input(s):\n",
            "  The given SavedModel SignatureDef contains the following output(s):\n",
            "    outputs['__saved_model_init_op'] tensor_info:\n",
            "        dtype: DT_INVALID\n",
            "        shape: unknown_rank\n",
            "        name: NoOp\n",
            "  Method name is: \n",
            "\n",
            "signature_def['serving_default']:\n",
            "  The given SavedModel SignatureDef contains the following input(s):\n",
            "    inputs['dense_input'] tensor_info:\n",
            "        dtype: DT_FLOAT\n",
            "        shape: (-1, 18)\n",
            "        name: serving_default_dense_input:0\n",
            "  The given SavedModel SignatureDef contains the following output(s):\n",
            "    outputs['dense_3'] tensor_info:\n",
            "        dtype: DT_FLOAT\n",
            "        shape: (-1, 1)\n",
            "        name: StatefulPartitionedCall:0\n",
            "  Method name is: tensorflow/serving/predict\n",
            "WARNING: Logging before flag parsing goes to stderr.\n",
            "W0816 05:24:27.779604 139704184813440 deprecation.py:506] From /usr/local/lib/python2.7/dist-packages/tensorflow_core/python/ops/resource_variable_ops.py:1786: calling __init__ (from tensorflow.python.ops.resource_variable_ops) with constraint is deprecated and will be removed in a future version.\n",
            "Instructions for updating:\n",
            "If using Keras pass *_constraint arguments to layers.\n",
            "\n",
            "Defined Functions:\n",
            "  Function Name: '__call__'\n",
            "    Option #1\n",
            "      Callable with:\n",
            "        Argument #1\n",
            "          inputs: TensorSpec(shape=(None, 18), dtype=tf.float32, name=u'inputs')\n",
            "        Argument #2\n",
            "          DType: bool\n",
            "          Value: True\n",
            "        Argument #3\n",
            "          DType: NoneType\n",
            "          Value: None\n",
            "    Option #2\n",
            "      Callable with:\n",
            "        Argument #1\n",
            "          dense_input: TensorSpec(shape=(None, 18), dtype=tf.float32, name=u'dense_input')\n",
            "        Argument #2\n",
            "          DType: bool\n",
            "          Value: True\n",
            "        Argument #3\n",
            "          DType: NoneType\n",
            "          Value: None\n",
            "    Option #3\n",
            "      Callable with:\n",
            "        Argument #1\n",
            "          inputs: TensorSpec(shape=(None, 18), dtype=tf.float32, name=u'inputs')\n",
            "        Argument #2\n",
            "          DType: bool\n",
            "          Value: False\n",
            "        Argument #3\n",
            "          DType: NoneType\n",
            "          Value: None\n",
            "    Option #4\n",
            "      Callable with:\n",
            "        Argument #1\n",
            "          dense_input: TensorSpec(shape=(None, 18), dtype=tf.float32, name=u'dense_input')\n",
            "        Argument #2\n",
            "          DType: bool\n",
            "          Value: False\n",
            "        Argument #3\n",
            "          DType: NoneType\n",
            "          Value: None\n",
            "\n",
            "  Function Name: '_default_save_signature'\n",
            "    Option #1\n",
            "      Callable with:\n",
            "        Argument #1\n",
            "          dense_input: TensorSpec(shape=(None, 18), dtype=tf.float32, name=u'dense_input')\n",
            "\n",
            "  Function Name: 'call_and_return_all_conditional_losses'\n",
            "    Option #1\n",
            "      Callable with:\n",
            "        Argument #1\n",
            "          inputs: TensorSpec(shape=(None, 18), dtype=tf.float32, name=u'inputs')\n",
            "        Argument #2\n",
            "          DType: bool\n",
            "          Value: True\n",
            "        Argument #3\n",
            "          DType: NoneType\n",
            "          Value: None\n",
            "    Option #2\n",
            "      Callable with:\n",
            "        Argument #1\n",
            "          inputs: TensorSpec(shape=(None, 18), dtype=tf.float32, name=u'inputs')\n",
            "        Argument #2\n",
            "          DType: bool\n",
            "          Value: False\n",
            "        Argument #3\n",
            "          DType: NoneType\n",
            "          Value: None\n",
            "    Option #3\n",
            "      Callable with:\n",
            "        Argument #1\n",
            "          dense_input: TensorSpec(shape=(None, 18), dtype=tf.float32, name=u'dense_input')\n",
            "        Argument #2\n",
            "          DType: bool\n",
            "          Value: False\n",
            "        Argument #3\n",
            "          DType: NoneType\n",
            "          Value: None\n",
            "    Option #4\n",
            "      Callable with:\n",
            "        Argument #1\n",
            "          dense_input: TensorSpec(shape=(None, 18), dtype=tf.float32, name=u'dense_input')\n",
            "        Argument #2\n",
            "          DType: bool\n",
            "          Value: True\n",
            "        Argument #3\n",
            "          DType: NoneType\n",
            "          Value: None\n"
          ],
          "name": "stdout"
        }
      ]
    },
    {
      "cell_type": "code",
      "metadata": {
        "id": "IFKLiNj77HRW",
        "colab": {
          "base_uri": "https://localhost:8080/"
        },
        "outputId": "935d516f-f7a5-44c8-f96b-9ce0327a394d"
      },
      "source": [
        "score = classifier.evaluate(X_test, y_test)\n",
        "print('Test loss:', score[0])\n",
        "print('Test accuracy:', score[1])\n",
        "\n",
        "# Making the Confusion Matrix\n",
        "from sklearn.metrics import confusion_matrix\n",
        "#confusion_matrix_attrition = confusion_matrix(y_test, y_pred)\n",
        "#print(confusion_matrix_attrition)\n",
        "confusion_matrix_attrition = pd.crosstab(y_test, y_pred, rownames=['Actual'], colnames=['Predicted'])\n",
        "print(\"Artificial Neural Network Matrix:\\n\")\n",
        "print(confusion_matrix_attrition)\n",
        "print(\"\\nArtificial Neural Network Accuracy:\", accuracy_score(y_test, y_pred.round()))"
      ],
      "execution_count": null,
      "outputs": [
        {
          "output_type": "stream",
          "text": [
            "61/61 [==============================] - 0s 2ms/step - loss: 0.6699 - accuracy: 0.5814\n",
            "Test loss: 0.6699342727661133\n",
            "Test accuracy: 0.581383228302002\n",
            "Artificial Neural Network Matrix:\n",
            "\n",
            "Predicted  False  True \n",
            "Actual                 \n",
            "0            955    131\n",
            "1            674    163\n",
            "\n",
            "Artificial Neural Network Accuracy: 0.5813832553302132\n"
          ],
          "name": "stdout"
        }
      ]
    },
    {
      "cell_type": "markdown",
      "metadata": {
        "id": "9m5mdpxdP1AI"
      },
      "source": [
        "# Serve Model with TensorFlow Serving"
      ]
    },
    {
      "cell_type": "code",
      "metadata": {
        "id": "PDX9_gMQPQqt"
      },
      "source": [
        "import sys\n",
        "# We need sudo prefix if not on a Google Colab.\n",
        "if 'google.colab' not in sys.modules:\n",
        "  SUDO_IF_NEEDED = 'sudo'\n",
        "else:\n",
        "  SUDO_IF_NEEDED = ''"
      ],
      "execution_count": null,
      "outputs": []
    },
    {
      "cell_type": "code",
      "metadata": {
        "colab": {
          "base_uri": "https://localhost:8080/"
        },
        "id": "ecDs3hf3P6bY",
        "outputId": "3a61b2f7-fd0b-4e07-936a-87f9dfe33fba"
      },
      "source": [
        "# echo \"deb [arch=amd64] http://storage.googleapis.com/tensorflow-serving-apt stable tensorflow-model-server tensorflow-model-server-universal\" | sudo tee /etc/apt/sources.list.d/tensorflow-serving.list && \\\n",
        "# curl https://storage.googleapis.com/tensorflow-serving-apt/tensorflow-serving.release.pub.gpg | sudo apt-key add -\n",
        "\n",
        "!echo \"deb http://storage.googleapis.com/tensorflow-serving-apt stable tensorflow-model-server tensorflow-model-server-universal\" | {SUDO_IF_NEEDED} tee /etc/apt/sources.list.d/tensorflow-serving.list && \\\n",
        "curl https://storage.googleapis.com/tensorflow-serving-apt/tensorflow-serving.release.pub.gpg | {SUDO_IF_NEEDED} apt-key add -\n",
        "!{SUDO_IF_NEEDED} apt update"
      ],
      "execution_count": null,
      "outputs": [
        {
          "output_type": "stream",
          "text": [
            "deb http://storage.googleapis.com/tensorflow-serving-apt stable tensorflow-model-server tensorflow-model-server-universal\n",
            "  % Total    % Received % Xferd  Average Speed   Time    Time     Time  Current\n",
            "                                 Dload  Upload   Total   Spent    Left  Speed\n",
            "100  2943  100  2943    0     0  39770      0 --:--:-- --:--:-- --:--:-- 39770\n",
            "OK\n",
            "Get:1 https://cloud.r-project.org/bin/linux/ubuntu bionic-cran40/ InRelease [3,626 B]\n",
            "Get:2 http://storage.googleapis.com/tensorflow-serving-apt stable InRelease [3,012 B]\n",
            "Ign:3 https://developer.download.nvidia.com/compute/cuda/repos/ubuntu1804/x86_64  InRelease\n",
            "Ign:4 https://developer.download.nvidia.com/compute/machine-learning/repos/ubuntu1804/x86_64  InRelease\n",
            "Get:5 https://developer.download.nvidia.com/compute/cuda/repos/ubuntu1804/x86_64  Release [697 B]\n",
            "Hit:6 https://developer.download.nvidia.com/compute/machine-learning/repos/ubuntu1804/x86_64  Release\n",
            "Get:7 https://developer.download.nvidia.com/compute/cuda/repos/ubuntu1804/x86_64  Release.gpg [836 B]\n",
            "Get:8 http://security.ubuntu.com/ubuntu bionic-security InRelease [88.7 kB]\n",
            "Get:9 https://cloud.r-project.org/bin/linux/ubuntu bionic-cran40/ Packages [66.2 kB]\n",
            "Hit:10 http://archive.ubuntu.com/ubuntu bionic InRelease\n",
            "Get:11 http://ppa.launchpad.net/c2d4u.team/c2d4u4.0+/ubuntu bionic InRelease [15.9 kB]\n",
            "Get:12 http://archive.ubuntu.com/ubuntu bionic-updates InRelease [88.7 kB]\n",
            "Get:13 http://storage.googleapis.com/tensorflow-serving-apt stable/tensorflow-model-server-universal amd64 Packages [347 B]\n",
            "Get:14 http://storage.googleapis.com/tensorflow-serving-apt stable/tensorflow-model-server amd64 Packages [340 B]\n",
            "Hit:16 http://ppa.launchpad.net/cran/libgit2/ubuntu bionic InRelease\n",
            "Ign:17 https://developer.download.nvidia.com/compute/cuda/repos/ubuntu1804/x86_64  Packages\n",
            "Get:17 https://developer.download.nvidia.com/compute/cuda/repos/ubuntu1804/x86_64  Packages [695 kB]\n",
            "Get:18 http://archive.ubuntu.com/ubuntu bionic-backports InRelease [74.6 kB]\n",
            "Get:19 http://ppa.launchpad.net/deadsnakes/ppa/ubuntu bionic InRelease [15.9 kB]\n",
            "Get:20 http://security.ubuntu.com/ubuntu bionic-security/restricted amd64 Packages [510 kB]\n",
            "Get:21 http://ppa.launchpad.net/graphics-drivers/ppa/ubuntu bionic InRelease [21.3 kB]\n",
            "Get:22 http://security.ubuntu.com/ubuntu bionic-security/multiverse amd64 Packages [26.7 kB]\n",
            "Get:23 http://security.ubuntu.com/ubuntu bionic-security/universe amd64 Packages [1,421 kB]\n",
            "Get:24 http://security.ubuntu.com/ubuntu bionic-security/main amd64 Packages [2,263 kB]\n",
            "Get:25 http://ppa.launchpad.net/c2d4u.team/c2d4u4.0+/ubuntu bionic/main Sources [1,790 kB]\n",
            "Get:26 http://archive.ubuntu.com/ubuntu bionic-updates/universe amd64 Packages [2,196 kB]\n",
            "Get:27 http://archive.ubuntu.com/ubuntu bionic-updates/multiverse amd64 Packages [39.4 kB]\n",
            "Get:28 http://archive.ubuntu.com/ubuntu bionic-updates/main amd64 Packages [2,699 kB]\n",
            "Get:29 http://archive.ubuntu.com/ubuntu bionic-updates/restricted amd64 Packages [544 kB]\n",
            "Get:30 http://ppa.launchpad.net/c2d4u.team/c2d4u4.0+/ubuntu bionic/main amd64 Packages [916 kB]\n",
            "Get:31 http://ppa.launchpad.net/deadsnakes/ppa/ubuntu bionic/main amd64 Packages [40.9 kB]\n",
            "Get:32 http://ppa.launchpad.net/graphics-drivers/ppa/ubuntu bionic/main amd64 Packages [44.1 kB]\n",
            "Fetched 13.6 MB in 5s (2,729 kB/s)\n",
            "Reading package lists... Done\n",
            "Building dependency tree       \n",
            "Reading state information... Done\n",
            "108 packages can be upgraded. Run 'apt list --upgradable' to see them.\n"
          ],
          "name": "stdout"
        }
      ]
    },
    {
      "cell_type": "code",
      "metadata": {
        "colab": {
          "base_uri": "https://localhost:8080/"
        },
        "id": "2qDe3wCbQBwZ",
        "outputId": "271887bb-271e-48fe-d3cb-3cf8bea5525e"
      },
      "source": [
        "# Install TensorFlow serving - \n",
        "!{SUDO_IF_NEEDED} apt-get install tensorflow-model-server"
      ],
      "execution_count": null,
      "outputs": [
        {
          "output_type": "stream",
          "text": [
            "Reading package lists... Done\n",
            "Building dependency tree       \n",
            "Reading state information... Done\n",
            "The following NEW packages will be installed:\n",
            "  tensorflow-model-server\n",
            "0 upgraded, 1 newly installed, 0 to remove and 108 not upgraded.\n",
            "Need to get 326 MB of archives.\n",
            "After this operation, 0 B of additional disk space will be used.\n",
            "Get:1 http://storage.googleapis.com/tensorflow-serving-apt stable/tensorflow-model-server amd64 tensorflow-model-server all 2.5.1 [326 MB]\n",
            "Fetched 326 MB in 4s (77.6 MB/s)\n",
            "Selecting previously unselected package tensorflow-model-server.\n",
            "(Reading database ... 160837 files and directories currently installed.)\n",
            "Preparing to unpack .../tensorflow-model-server_2.5.1_all.deb ...\n",
            "Unpacking tensorflow-model-server (2.5.1) ...\n",
            "Setting up tensorflow-model-server (2.5.1) ...\n"
          ],
          "name": "stdout"
        }
      ]
    },
    {
      "cell_type": "markdown",
      "metadata": {
        "id": "Qucr8djlQJS0"
      },
      "source": [
        "# Start TensorFlow Serving Server - "
      ]
    },
    {
      "cell_type": "code",
      "metadata": {
        "id": "4c7_uCFPQJCX"
      },
      "source": [
        "os.environ[\"MODEL_DIR\"] = MODEL_DIR"
      ],
      "execution_count": null,
      "outputs": []
    },
    {
      "cell_type": "code",
      "metadata": {
        "colab": {
          "base_uri": "https://localhost:8080/"
        },
        "id": "DW6tENZfQaBz",
        "outputId": "88d1f397-b069-4de2-db91-7d54095dfbc0"
      },
      "source": [
        "%%bash --bg \n",
        "nohup tensorflow_model_server \\\n",
        "  --rest_api_port=8501 \\\n",
        "  --model_name=attrition_model \\\n",
        "  --model_base_path=\"${MODEL_DIR}\" >server.log 2>&1"
      ],
      "execution_count": null,
      "outputs": [
        {
          "output_type": "stream",
          "text": [
            "Starting job # 0 in a separate thread.\n"
          ],
          "name": "stdout"
        }
      ]
    },
    {
      "cell_type": "code",
      "metadata": {
        "colab": {
          "base_uri": "https://localhost:8080/"
        },
        "id": "NhRkewEMQSVD",
        "outputId": "508ab3f2-43b0-4a4e-e11b-382261f2ef17"
      },
      "source": [
        "!tail server.log"
      ],
      "execution_count": null,
      "outputs": [
        {
          "output_type": "stream",
          "text": [
            "2021-08-16 05:25:13.276523: I external/org_tensorflow/tensorflow/cc/saved_model/loader.cc:190] Running initialization op on SavedModel bundle at path: /tmp/1\n",
            "2021-08-16 05:25:13.280950: I external/org_tensorflow/tensorflow/cc/saved_model/loader.cc:277] SavedModel load for tags { serve }; Status: success: OK. Took 56018 microseconds.\n",
            "2021-08-16 05:25:13.281743: I tensorflow_serving/servables/tensorflow/saved_model_warmup_util.cc:59] No warmup data file found at /tmp/1/assets.extra/tf_serving_warmup_requests\n",
            "2021-08-16 05:25:13.281861: I tensorflow_serving/core/loader_harness.cc:87] Successfully loaded servable version {name: attrition_model version: 1}\n",
            "2021-08-16 05:25:13.282436: I tensorflow_serving/model_servers/server_core.cc:486] Finished adding/updating models\n",
            "2021-08-16 05:25:13.282490: I tensorflow_serving/model_servers/server.cc:367] Profiler service is enabled\n",
            "2021-08-16 05:25:13.282930: I tensorflow_serving/model_servers/server.cc:393] Running gRPC ModelServer at 0.0.0.0:8500 ...\n",
            "[warn] getaddrinfo: address family for nodename not supported\n",
            "2021-08-16 05:25:13.283425: I tensorflow_serving/model_servers/server.cc:414] Exporting HTTP/REST API at:localhost:8501 ...\n",
            "[evhttp_server.cc : 245] NET_LOG: Entering the event loop ...\n"
          ],
          "name": "stdout"
        }
      ]
    },
    {
      "cell_type": "markdown",
      "metadata": {
        "id": "eQ5hxEdYQkvV"
      },
      "source": [
        "# Send Test set as JSON POST request"
      ]
    },
    {
      "cell_type": "code",
      "metadata": {
        "colab": {
          "base_uri": "https://localhost:8080/"
        },
        "id": "6hY0Zie-Qkgt",
        "outputId": "8de19cef-3d72-4dae-d51e-fa4e21526315"
      },
      "source": [
        "import json\n",
        "data = json.dumps({\"signature_name\": \"serving_default\", \"instances\": X_test[0:10].tolist()})\n",
        "print('Data: {} ... {}'.format(data[:50], data[len(data)-52:]))"
      ],
      "execution_count": null,
      "outputs": [
        {
          "output_type": "stream",
          "text": [
            "Data: {\"signature_name\": \"serving_default\", \"instances\": ... 656561, -0.28982530934507056, -1.0120625424550316]]}\n"
          ],
          "name": "stdout"
        }
      ]
    },
    {
      "cell_type": "markdown",
      "metadata": {
        "id": "uRvi5nRaRTzP"
      },
      "source": [
        "# Make REST requests using Servable"
      ]
    },
    {
      "cell_type": "code",
      "metadata": {
        "colab": {
          "base_uri": "https://localhost:8080/"
        },
        "id": "LqV57BJ6RTmf",
        "outputId": "a93227b4-c2d7-4fa1-9e7c-5da63fad4bff"
      },
      "source": [
        "# docs_infra: no_execute\n",
        "!pip install -q requests\n",
        "\n",
        "import requests\n",
        "headers = {\"content-type\": \"application/json\"}\n",
        "json_response = requests.post('http://localhost:8501/v1/models/attrition_model:predict', data=data, headers=headers)\n",
        "predictions = json.loads(json_response.text)['predictions']\n",
        "# print(predictions)\n",
        "for pred in predictions:\n",
        "  if pred[0] < 0.5:\n",
        "    print(\"The model predicted it as: No Attrition\")\n",
        "  else:\n",
        "    print(\"The model predicted it as: Attrition\")\n",
        "  \n",
        "# print(0, 'The model thought this was a {} (class {}), and it was actually a {} (class {})'.format(\n",
        "#   class_names[np.argmax(predictions[0])], np.argmax(predictions[0]), class_names[test_labels[0]], test_labels[0]))"
      ],
      "execution_count": null,
      "outputs": [
        {
          "output_type": "stream",
          "text": [
            "The model predicted it as: No Attrition\n",
            "The model predicted it as: Attrition\n",
            "The model predicted it as: Attrition\n",
            "The model predicted it as: No Attrition\n",
            "The model predicted it as: No Attrition\n",
            "The model predicted it as: No Attrition\n",
            "The model predicted it as: No Attrition\n",
            "The model predicted it as: No Attrition\n",
            "The model predicted it as: Attrition\n",
            "The model predicted it as: No Attrition\n"
          ],
          "name": "stdout"
        }
      ]
    },
    {
      "cell_type": "markdown",
      "metadata": {
        "id": "zBZA9jcW7HRX"
      },
      "source": [
        "# SVM - "
      ]
    },
    {
      "cell_type": "code",
      "metadata": {
        "id": "gUeeTCQ87HRX",
        "outputId": "a5a9bcaa-a5ce-4336-d15f-e17466ca5c40"
      },
      "source": [
        "from sklearn.svm import LinearSVC, SVC\n",
        "svm = LinearSVC(C=0.8)\n",
        "model = svm.fit(X_train, y_train)\n",
        "\n",
        "svm_pred = svm.predict(X_test)\n",
        "\n",
        "print(\"Support Vector Machines Assuracy:\", accuracy_score(y_test, svm_pred))"
      ],
      "execution_count": null,
      "outputs": [
        {
          "output_type": "stream",
          "text": [
            "Support Vector Machines Assuracy: 0.5891835673426937\n"
          ],
          "name": "stdout"
        },
        {
          "output_type": "stream",
          "text": [
            "/Users/neilsharma/opt/anaconda3/lib/python3.7/site-packages/sklearn/svm/base.py:929: ConvergenceWarning: Liblinear failed to converge, increase the number of iterations.\n",
            "  \"the number of iterations.\", ConvergenceWarning)\n"
          ],
          "name": "stderr"
        }
      ]
    },
    {
      "cell_type": "code",
      "metadata": {
        "id": "W8iWKx4B7HRX",
        "outputId": "133f90eb-8a53-42d1-e0d6-1cf29ca09e00"
      },
      "source": [
        "# Making the Confusion Matrix\n",
        "from sklearn.metrics import confusion_matrix\n",
        "#confusion_matrix_attrition = confusion_matrix(y_test, y_pred)\n",
        "#print(confusion_matrix_attrition)\n",
        "\n",
        "confusion_matrix_attrition = pd.crosstab(y_test,svm_pred, rownames=['Actual'], colnames=['Predicted'])\n",
        "print(\"Support Vector Machines Matrix:\\n\")\n",
        "print(confusion_matrix_attrition)\n",
        "print(\"\\nSupport Vector Machines Accuracy:\", accuracy_score(y_test, svm_pred))\n"
      ],
      "execution_count": null,
      "outputs": [
        {
          "output_type": "stream",
          "text": [
            "Support Vector Machines Matrix:\n",
            "\n",
            "Predicted    0    1\n",
            "Actual             \n",
            "0          847  239\n",
            "1          551  286\n",
            "\n",
            "Support Vector Machines Accuracy: 0.5891835673426937\n"
          ],
          "name": "stdout"
        }
      ]
    },
    {
      "cell_type": "markdown",
      "metadata": {
        "id": "hbQ2pUTD7HRX"
      },
      "source": [
        "# Final Results - "
      ]
    },
    {
      "cell_type": "code",
      "metadata": {
        "id": "SvoHftbY7HRX",
        "outputId": "01c67e26-4168-49d9-aa2c-783f67b0231a"
      },
      "source": [
        "pd.DataFrame([\n",
        "        {\"Model\": \"Gaussian Naive Bayes\",      \"Accuracy\":  accuracy_score(y_test, GNB_pred)},\n",
        "        {\"Model\": \"Random Forest Classifier\",  \"Accuracy\":  accuracy_score(y_test, rf_pred)},\n",
        "        {\"Model\": \"K-nearest Neighbors\",       \"Accuracy\":  accuracy_score(y_test, knn_pred)},\n",
        "        {\"Model\": \"Decision Tree Classifier\",  \"Accuracy\":  accuracy_score(y_test, dtree_pred)},\n",
        "        {\"Model\": \"Artificial Neural Network\", \"Accuracy\":  accuracy_score(y_test, y_pred.round())},\n",
        "        {\"Model\": \"Support Vector Machines\", \"Accuracy\":  accuracy_score(y_test, svm_pred)}\n",
        "    ], index=range(1, 7))"
      ],
      "execution_count": null,
      "outputs": [
        {
          "output_type": "execute_result",
          "data": {
            "text/html": [
              "<div>\n",
              "<style scoped>\n",
              "    .dataframe tbody tr th:only-of-type {\n",
              "        vertical-align: middle;\n",
              "    }\n",
              "\n",
              "    .dataframe tbody tr th {\n",
              "        vertical-align: top;\n",
              "    }\n",
              "\n",
              "    .dataframe thead th {\n",
              "        text-align: right;\n",
              "    }\n",
              "</style>\n",
              "<table border=\"1\" class=\"dataframe\">\n",
              "  <thead>\n",
              "    <tr style=\"text-align: right;\">\n",
              "      <th></th>\n",
              "      <th>Model</th>\n",
              "      <th>Accuracy</th>\n",
              "    </tr>\n",
              "  </thead>\n",
              "  <tbody>\n",
              "    <tr>\n",
              "      <td>1</td>\n",
              "      <td>Gaussian Naive Bayes</td>\n",
              "      <td>0.544462</td>\n",
              "    </tr>\n",
              "    <tr>\n",
              "      <td>2</td>\n",
              "      <td>Random Forest Classifier</td>\n",
              "      <td>0.664067</td>\n",
              "    </tr>\n",
              "    <tr>\n",
              "      <td>3</td>\n",
              "      <td>K-nearest Neighbors</td>\n",
              "      <td>0.557462</td>\n",
              "    </tr>\n",
              "    <tr>\n",
              "      <td>4</td>\n",
              "      <td>Decision Tree Classifier</td>\n",
              "      <td>0.624025</td>\n",
              "    </tr>\n",
              "    <tr>\n",
              "      <td>5</td>\n",
              "      <td>Artificial Neural Network</td>\n",
              "      <td>0.570983</td>\n",
              "    </tr>\n",
              "    <tr>\n",
              "      <td>6</td>\n",
              "      <td>Support Vector Machines</td>\n",
              "      <td>0.589184</td>\n",
              "    </tr>\n",
              "  </tbody>\n",
              "</table>\n",
              "</div>"
            ],
            "text/plain": [
              "                       Model  Accuracy\n",
              "1       Gaussian Naive Bayes  0.544462\n",
              "2   Random Forest Classifier  0.664067\n",
              "3        K-nearest Neighbors  0.557462\n",
              "4   Decision Tree Classifier  0.624025\n",
              "5  Artificial Neural Network  0.570983\n",
              "6    Support Vector Machines  0.589184"
            ]
          },
          "metadata": {
            "tags": []
          },
          "execution_count": 121
        }
      ]
    }
  ]
}